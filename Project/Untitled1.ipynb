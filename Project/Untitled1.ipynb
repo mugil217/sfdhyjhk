{
 "cells": [
  {
   "cell_type": "code",
   "execution_count": 10,
   "metadata": {},
   "outputs": [],
   "source": [
    "from math import pi\n",
    "import pandas as pd\n",
    "import numpy as np\n",
    "import matplotlib.pyplot as plt\n",
    "import seaborn as sns\n",
    "import calendar\n",
    "from cycler import cycler\n",
    "from bokeh.io import output_file, show\n",
    "from bokeh.palettes import Category20c\n",
    "from bokeh.plotting import figure\n",
    "from bokeh.transform import cumsum\n",
    "from bokeh.layouts import column\n",
    "from bokeh.transform import jitter\n",
    "import operator\n",
    "from jitter import read_file"
   ]
  },
  {
   "cell_type": "code",
   "execution_count": 3,
   "metadata": {},
   "outputs": [],
   "source": [
    "# def read_file(csv_file):\n",
    "#     df = pd.read_csv(csv_file)\n",
    "#     df['Year'] = pd.DatetimeIndex(df['lastUpdated']).year\n",
    "#     df['Month'] = pd.DatetimeIndex(df['lastUpdated']).month\n",
    "#     df['lastUpdated'] = pd.to_datetime(df['lastUpdated'])\n",
    "#     df['rating'].fillna(df['rating'].mean(), inplace=True)\n",
    "#     df['rating'] = df['rating'].round(1)\n",
    "#     df['Month'] = df['Month'].apply(lambda x: calendar.month_abbr[x])\n",
    "#     return df"
   ]
  },
  {
   "cell_type": "code",
   "execution_count": 8,
   "metadata": {},
   "outputs": [],
   "source": [
    "# def plot_jitter(data_frame):\n",
    "#     ratings = sorted(data_frame.rating.unique())\n",
    "#     jitter_plot = figure(plot_width=1600, plot_height=800,\n",
    "#                 title=\"Application Rating Vs No. of Installations\", y_axis_type='log')\n",
    "#     jitter_plot.xgrid.grid_line_color = None\n",
    "#     jitter_plot.xaxis[0].ticker = ratings\n",
    "#     jitter_plot.circle(x=jitter('rating', 0.4), y='installs', size=9, alpha=0.4, source=data_frame)\n",
    "#     jitter_plot.xaxis.axis_label = 'Ratings'\n",
    "#     jitter_plot.yaxis.axis_label = 'No. of Installations'\n",
    "#     output_file(\"jitter.html\")\n",
    "#     return show(jitter_plot)"
   ]
  },
  {
   "cell_type": "code",
   "execution_count": 9,
   "metadata": {},
   "outputs": [],
   "source": [
    "# plot_jitter(read_file('cleanData.csv'))"
   ]
  },
  {
   "cell_type": "code",
   "execution_count": null,
   "metadata": {},
   "outputs": [],
   "source": [
    "def dataCleaning(data_frame):\n",
    "    byCategory = data_frame.groupby('category')"
   ]
  }
 ],
 "metadata": {
  "kernelspec": {
   "display_name": "Python 3",
   "language": "python",
   "name": "python3"
  },
  "language_info": {
   "codemirror_mode": {
    "name": "ipython",
    "version": 3
   },
   "file_extension": ".py",
   "mimetype": "text/x-python",
   "name": "python",
   "nbconvert_exporter": "python",
   "pygments_lexer": "ipython3",
   "version": "3.7.1"
  }
 },
 "nbformat": 4,
 "nbformat_minor": 2
}
